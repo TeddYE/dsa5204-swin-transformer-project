{
 "cells": [
  {
   "metadata": {
    "ExecuteTime": {
     "end_time": "2025-03-16T11:36:31.399489Z",
     "start_time": "2025-03-16T11:36:31.383012Z"
    }
   },
   "cell_type": "code",
   "source": [
    "import timm\n",
    "import torch\n",
    "from torchvision.transforms import Compose, Resize, ToTensor\n",
    "from torchvision.datasets import ImageFolder\n",
    "from torch.utils.data import DataLoader"
   ],
   "id": "initial_id",
   "outputs": [],
   "execution_count": 48
  },
  {
   "metadata": {
    "ExecuteTime": {
     "end_time": "2025-03-16T11:36:42.873970Z",
     "start_time": "2025-03-16T11:36:42.862830Z"
    }
   },
   "cell_type": "code",
   "source": "device = torch.device('cuda' if torch.cuda.is_available() else 'cpu')",
   "id": "fa26dae9a0ab19c5",
   "outputs": [],
   "execution_count": 49
  },
  {
   "metadata": {
    "ExecuteTime": {
     "end_time": "2025-03-16T11:39:06.653720Z",
     "start_time": "2025-03-16T11:39:06.357276Z"
    }
   },
   "cell_type": "code",
   "source": [
    "transform = Compose([Resize((224, 224)), ToTensor()])\n",
    "dataset = ImageFolder(root='../data/validation', transform=transform)\n",
    "data_loader = DataLoader(dataset, batch_size=64, shuffle=True, num_workers=4)"
   ],
   "id": "ee03e51c7a4beaf0",
   "outputs": [],
   "execution_count": 51
  },
  {
   "metadata": {
    "ExecuteTime": {
     "end_time": "2025-03-16T11:46:14.011644Z",
     "start_time": "2025-03-16T11:46:14.007346Z"
    }
   },
   "cell_type": "code",
   "source": [
    "def load_model(model_name):\n",
    "    model = timm.create_model(model_name, pretrained=True)\n",
    "    model.to(device)\n",
    "    model.eval()\n",
    "    return model"
   ],
   "id": "e79d29de78644b26",
   "outputs": [],
   "execution_count": 55
  },
  {
   "metadata": {
    "ExecuteTime": {
     "end_time": "2025-03-16T11:44:10.548664Z",
     "start_time": "2025-03-16T11:42:20.107406Z"
    }
   },
   "cell_type": "code",
   "source": [
    "swin_b = load_model('swin_base_patch4_window7_224')\n",
    "swin_s = load_model('swin_small_patch4_window7_224')\n",
    "swin_t = load_model('swin_tiny_patch4_window7_224')\n",
    "swin_l = load_model('swin_large_patch4_window7_224')"
   ],
   "id": "297d2e3cac1e1123",
   "outputs": [
    {
     "data": {
      "text/plain": [
       "model.safetensors:   0%|          | 0.00/200M [00:00<?, ?B/s]"
      ],
      "application/vnd.jupyter.widget-view+json": {
       "version_major": 2,
       "version_minor": 0,
       "model_id": "fbc346d10e9e42529e48fdd592c490b0"
      }
     },
     "metadata": {},
     "output_type": "display_data"
    },
    {
     "name": "stderr",
     "output_type": "stream",
     "text": [
      "C:\\Users\\Weiye\\anaconda3\\envs\\dsa5204-project\\Lib\\site-packages\\huggingface_hub\\file_download.py:142: UserWarning: `huggingface_hub` cache-system uses symlinks by default to efficiently store duplicated files but your machine does not support them in C:\\Users\\Weiye\\.cache\\huggingface\\hub\\models--timm--swin_small_patch4_window7_224.ms_in22k_ft_in1k. Caching files will still work but in a degraded version that might require more space on your disk. This warning can be disabled by setting the `HF_HUB_DISABLE_SYMLINKS_WARNING` environment variable. For more details, see https://huggingface.co/docs/huggingface_hub/how-to-cache#limitations.\n",
      "To support symlinks on Windows, you either need to activate Developer Mode or to run Python as an administrator. In order to activate developer mode, see this article: https://docs.microsoft.com/en-us/windows/apps/get-started/enable-your-device-for-development\n",
      "  warnings.warn(message)\n"
     ]
    },
    {
     "data": {
      "text/plain": [
       "model.safetensors:   0%|          | 0.00/114M [00:00<?, ?B/s]"
      ],
      "application/vnd.jupyter.widget-view+json": {
       "version_major": 2,
       "version_minor": 0,
       "model_id": "281dbd4d88be4fc58e7a2d00327143b2"
      }
     },
     "metadata": {},
     "output_type": "display_data"
    },
    {
     "name": "stderr",
     "output_type": "stream",
     "text": [
      "C:\\Users\\Weiye\\anaconda3\\envs\\dsa5204-project\\Lib\\site-packages\\huggingface_hub\\file_download.py:142: UserWarning: `huggingface_hub` cache-system uses symlinks by default to efficiently store duplicated files but your machine does not support them in C:\\Users\\Weiye\\.cache\\huggingface\\hub\\models--timm--swin_tiny_patch4_window7_224.ms_in1k. Caching files will still work but in a degraded version that might require more space on your disk. This warning can be disabled by setting the `HF_HUB_DISABLE_SYMLINKS_WARNING` environment variable. For more details, see https://huggingface.co/docs/huggingface_hub/how-to-cache#limitations.\n",
      "To support symlinks on Windows, you either need to activate Developer Mode or to run Python as an administrator. In order to activate developer mode, see this article: https://docs.microsoft.com/en-us/windows/apps/get-started/enable-your-device-for-development\n",
      "  warnings.warn(message)\n"
     ]
    },
    {
     "data": {
      "text/plain": [
       "model.safetensors:   0%|          | 0.00/788M [00:00<?, ?B/s]"
      ],
      "application/vnd.jupyter.widget-view+json": {
       "version_major": 2,
       "version_minor": 0,
       "model_id": "0bab961e1f764580990fd332d4151464"
      }
     },
     "metadata": {},
     "output_type": "display_data"
    },
    {
     "name": "stderr",
     "output_type": "stream",
     "text": [
      "C:\\Users\\Weiye\\anaconda3\\envs\\dsa5204-project\\Lib\\site-packages\\huggingface_hub\\file_download.py:142: UserWarning: `huggingface_hub` cache-system uses symlinks by default to efficiently store duplicated files but your machine does not support them in C:\\Users\\Weiye\\.cache\\huggingface\\hub\\models--timm--swin_large_patch4_window7_224.ms_in22k_ft_in1k. Caching files will still work but in a degraded version that might require more space on your disk. This warning can be disabled by setting the `HF_HUB_DISABLE_SYMLINKS_WARNING` environment variable. For more details, see https://huggingface.co/docs/huggingface_hub/how-to-cache#limitations.\n",
      "To support symlinks on Windows, you either need to activate Developer Mode or to run Python as an administrator. In order to activate developer mode, see this article: https://docs.microsoft.com/en-us/windows/apps/get-started/enable-your-device-for-development\n",
      "  warnings.warn(message)\n"
     ]
    }
   ],
   "execution_count": 54
  },
  {
   "metadata": {
    "ExecuteTime": {
     "end_time": "2025-03-16T11:54:14.714357Z",
     "start_time": "2025-03-16T11:54:14.710240Z"
    }
   },
   "cell_type": "code",
   "source": [
    "def compute_top_k_acc(pred_labels, true_labels, k):\n",
    "    _, top_k_pred = pred_labels.topk(k, dim=1)\n",
    "    correct_top_k = (top_k_pred == true_labels.view(-1, 1)).sum().item()\n",
    "    return correct_top_k"
   ],
   "id": "e7c19fc5d7afc0dc",
   "outputs": [],
   "execution_count": 60
  },
  {
   "metadata": {
    "ExecuteTime": {
     "end_time": "2025-03-16T11:54:16.239050Z",
     "start_time": "2025-03-16T11:54:16.235051Z"
    }
   },
   "cell_type": "code",
   "source": [
    "model_results = {\n",
    "    'swin_b': [0, 0],\n",
    "    'swin_s': [0, 0],\n",
    "    'swin_t': [0, 0],\n",
    "    'swin_l': [0, 0],\n",
    "}\n",
    "\n",
    "total = 0"
   ],
   "id": "4bbc6b3f36b454e3",
   "outputs": [],
   "execution_count": 61
  },
  {
   "metadata": {
    "ExecuteTime": {
     "end_time": "2025-03-16T12:33:38.678760Z",
     "start_time": "2025-03-16T11:55:00.010258Z"
    }
   },
   "cell_type": "code",
   "source": [
    "with torch.no_grad():\n",
    "    for images, labels in data_loader:\n",
    "        images, labels = images.to(device), labels.to(device)\n",
    "        \n",
    "        swin_b_out = swin_b(images)\n",
    "        model_results['swin_b'][0] += compute_top_k_acc(swin_b_out, labels, 1)\n",
    "        model_results['swin_b'][1] += compute_top_k_acc(swin_b_out, labels, 5)\n",
    "        \n",
    "        swin_s_out = swin_s(images)\n",
    "        model_results['swin_s'][0] += compute_top_k_acc(swin_s_out, labels, 1)\n",
    "        model_results['swin_s'][1] += compute_top_k_acc(swin_s_out, labels, 5)\n",
    "        \n",
    "        swin_t_out = swin_t(images)\n",
    "        model_results['swin_t'][0] += compute_top_k_acc(swin_t_out, labels, 1)\n",
    "        model_results['swin_t'][1] += compute_top_k_acc(swin_t_out, labels, 5)\n",
    "        \n",
    "        swin_l_out = swin_l(images)\n",
    "        model_results['swin_l'][0] += compute_top_k_acc(swin_l_out, labels, 1)\n",
    "        model_results['swin_l'][1] += compute_top_k_acc(swin_l_out, labels, 5)\n",
    "        \n",
    "        total += labels.size(0)\n",
    "        if total % 100 == 0:\n",
    "            print(f'Evaluated {total} images...')"
   ],
   "id": "410cc9a17498d527",
   "outputs": [
    {
     "name": "stdout",
     "output_type": "stream",
     "text": [
      "Evaluated 1600 images...\n",
      "Evaluated 3200 images...\n",
      "Evaluated 4800 images...\n",
      "Evaluated 6400 images...\n",
      "Evaluated 8000 images...\n",
      "Evaluated 9600 images...\n",
      "Evaluated 11200 images...\n",
      "Evaluated 12800 images...\n",
      "Evaluated 14400 images...\n",
      "Evaluated 16000 images...\n",
      "Evaluated 17600 images...\n",
      "Evaluated 19200 images...\n",
      "Evaluated 20800 images...\n",
      "Evaluated 22400 images...\n",
      "Evaluated 24000 images...\n",
      "Evaluated 25600 images...\n",
      "Evaluated 27200 images...\n",
      "Evaluated 28800 images...\n",
      "Evaluated 30400 images...\n",
      "Evaluated 32000 images...\n",
      "Evaluated 33600 images...\n",
      "Evaluated 35200 images...\n",
      "Evaluated 36800 images...\n",
      "Evaluated 38400 images...\n",
      "Evaluated 40000 images...\n",
      "Evaluated 41600 images...\n",
      "Evaluated 43200 images...\n",
      "Evaluated 44800 images...\n",
      "Evaluated 46400 images...\n",
      "Evaluated 48000 images...\n",
      "Evaluated 49600 images...\n",
      "Evaluated 50000 images...\n"
     ]
    }
   ],
   "execution_count": 66
  },
  {
   "metadata": {
    "ExecuteTime": {
     "end_time": "2025-03-16T12:33:38.685886Z",
     "start_time": "2025-03-16T12:33:38.679764Z"
    }
   },
   "cell_type": "code",
   "source": [
    "for name, model_result in model_results.items():\n",
    "    top1_acc = 100 * model_result[0] / total\n",
    "    top5_acc = 100 * model_result[1] / total\n",
    "    print(f\"Model: {name} - Top-1 Accuracy: {top1_acc:.2f}%, Top-5 Accuracy: {top5_acc:.2f}%\")"
   ],
   "id": "a92a834e0189477b",
   "outputs": [
    {
     "name": "stdout",
     "output_type": "stream",
     "text": [
      "Model: swin_b - Top-1 Accuracy: 81.14%, Top-5 Accuracy: 94.63%\n",
      "Model: swin_s - Top-1 Accuracy: 78.90%, Top-5 Accuracy: 94.95%\n",
      "Model: swin_t - Top-1 Accuracy: 76.66%, Top-5 Accuracy: 93.21%\n",
      "Model: swin_l - Top-1 Accuracy: 82.64%, Top-5 Accuracy: 95.29%\n"
     ]
    }
   ],
   "execution_count": 67
  }
 ],
 "metadata": {
  "kernelspec": {
   "display_name": "Python 3",
   "language": "python",
   "name": "python3"
  },
  "language_info": {
   "codemirror_mode": {
    "name": "ipython",
    "version": 2
   },
   "file_extension": ".py",
   "mimetype": "text/x-python",
   "name": "python",
   "nbconvert_exporter": "python",
   "pygments_lexer": "ipython2",
   "version": "2.7.6"
  }
 },
 "nbformat": 4,
 "nbformat_minor": 5
}
