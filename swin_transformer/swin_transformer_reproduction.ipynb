{
 "cells": [
  {
   "metadata": {
    "ExecuteTime": {
     "end_time": "2025-04-06T06:37:51.418902Z",
     "start_time": "2025-04-06T06:37:44.581254Z"
    }
   },
   "cell_type": "code",
   "source": [
    "import timm\n",
    "import torch\n",
    "from timm.data.constants import IMAGENET_DEFAULT_MEAN, IMAGENET_DEFAULT_STD\n",
    "from timm.utils import accuracy, AverageMeter\n",
    "from torch.utils.data import DataLoader\n",
    "from torchvision.transforms import Compose, Resize, ToTensor, InterpolationMode, CenterCrop, Normalize\n",
    "from torchvision.datasets import ImageFolder\n",
    "from kaggle.api.kaggle_api_extended import KaggleApi\n",
    "import os\n",
    "from config import CACHE_DIR"
   ],
   "id": "initial_id",
   "outputs": [],
   "execution_count": 1
  },
  {
   "metadata": {
    "ExecuteTime": {
     "end_time": "2025-04-06T06:37:51.481021Z",
     "start_time": "2025-04-06T06:37:51.419909Z"
    }
   },
   "cell_type": "code",
   "source": "device = torch.device('cuda' if torch.cuda.is_available() else 'cpu')",
   "id": "fa26dae9a0ab19c5",
   "outputs": [],
   "execution_count": 2
  },
  {
   "metadata": {
    "ExecuteTime": {
     "end_time": "2025-04-06T06:37:51.486060Z",
     "start_time": "2025-04-06T06:37:51.482029Z"
    }
   },
   "cell_type": "code",
   "source": [
    "BATCH_SIZE = 128\n",
    "DATA_PATH = os.path.join(CACHE_DIR, 'imagenet1k_val')\n",
    "os.makedirs(DATA_PATH, exist_ok=True)\n",
    "IMG_SIZE = 224\n",
    "INTERPOLATION = InterpolationMode.BICUBIC\n",
    "PIN_MEMORY = True\n",
    "NUM_WORKERS = 8\n",
    "SHUFFLE = False\n",
    "AMP_ENABLE = True"
   ],
   "id": "cbe8cda83cf581b2",
   "outputs": [],
   "execution_count": 3
  },
  {
   "metadata": {},
   "cell_type": "code",
   "outputs": [],
   "execution_count": null,
   "source": [
    "api = KaggleApi()\n",
    "api.authenticate()\n",
    "api.dataset_download_files(\n",
    "    dataset='sautkin/imagenet1kvalid',\n",
    "    path=DATA_PATH,\n",
    "    unzip=True,            \n",
    "    quiet=False            \n",
    ")"
   ],
   "id": "77a454fe0c4b50eb"
  },
  {
   "metadata": {
    "ExecuteTime": {
     "end_time": "2025-04-06T06:37:51.491454Z",
     "start_time": "2025-04-06T06:37:51.486572Z"
    }
   },
   "cell_type": "code",
   "source": [
    "size = int((256 / 224) * IMG_SIZE)\n",
    "transform = Compose([\n",
    "    Resize(size, interpolation=INTERPOLATION),\n",
    "    CenterCrop(IMG_SIZE),\n",
    "    ToTensor(),\n",
    "    Normalize(IMAGENET_DEFAULT_MEAN, IMAGENET_DEFAULT_STD)\n",
    "])"
   ],
   "id": "defd799f070757e3",
   "outputs": [],
   "execution_count": 4
  },
  {
   "metadata": {
    "ExecuteTime": {
     "end_time": "2025-04-06T06:37:52.134760Z",
     "start_time": "2025-04-06T06:37:51.493395Z"
    }
   },
   "cell_type": "code",
   "source": [
    "dataset = ImageFolder(root=DATA_PATH, transform=transform)\n",
    "data_loader_128 = DataLoader(dataset, batch_size=BATCH_SIZE, shuffle=SHUFFLE, num_workers=NUM_WORKERS, pin_memory=PIN_MEMORY, drop_last=False)\n",
    "data_loader_32 = DataLoader(dataset, batch_size=32, shuffle=SHUFFLE, num_workers=NUM_WORKERS, pin_memory=PIN_MEMORY, drop_last=False)"
   ],
   "id": "ee03e51c7a4beaf0",
   "outputs": [],
   "execution_count": 5
  },
  {
   "metadata": {
    "ExecuteTime": {
     "end_time": "2025-04-06T06:39:27.879079Z",
     "start_time": "2025-04-06T06:39:27.872616Z"
    }
   },
   "cell_type": "code",
   "source": [
    "@torch.no_grad()\n",
    "def validate(model_name):\n",
    "    model = timm.create_model(model_name, pretrained=True)\n",
    "    model.to(device)\n",
    "    model.eval()\n",
    "    \n",
    "    acc1_meter = AverageMeter()\n",
    "    acc5_meter = AverageMeter()\n",
    "    \n",
    "    if model_name == 'swin_large_patch4_window7_224':\n",
    "        data_loader = data_loader_32\n",
    "    else:\n",
    "        data_loader = data_loader_128\n",
    "    \n",
    "    print_freq = len(data_loader) // 10\n",
    "\n",
    "    for idx, (images, target) in enumerate(data_loader):\n",
    "        images = images.cuda(non_blocking=True)\n",
    "        target = target.cuda(non_blocking=True)\n",
    "\n",
    "        # compute output\n",
    "        with torch.cuda.amp.autocast(enabled=AMP_ENABLE):\n",
    "            output = model(images)\n",
    "\n",
    "        # measure accuracy and record loss\n",
    "        acc1, acc5 = accuracy(output, target, topk=(1, 5))\n",
    "\n",
    "        acc1_meter.update(acc1.item(), target.size(0))\n",
    "        acc5_meter.update(acc5.item(), target.size(0))\n",
    "\n",
    "        if idx % print_freq == 0:\n",
    "            memory_used = torch.cuda.max_memory_allocated() / (1024.0 * 1024.0)\n",
    "            print(\n",
    "                f'Evaluated [{idx}/{len(data_loader)}]\\t'\n",
    "                f'Top 1 Accuracy: {acc1_meter.val:.3f} ({acc1_meter.avg:.3f})\\t'\n",
    "                f'Top 5 Accuracy: {acc5_meter.val:.3f} ({acc5_meter.avg:.3f})\\t'\n",
    "                f'Memory Used: {memory_used:.0f} MB')\n",
    "            \n",
    "    del model\n",
    "    torch.cuda.empty_cache()\n",
    "    torch.cuda.ipc_collect()\n",
    "    \n",
    "    print(f'*** Top 1 Accuracy {acc1_meter.avg:.3f}, Top 5 Accuracy {acc5_meter.avg:.3f} ***')\n",
    "    return acc1_meter.avg, acc5_meter.avg"
   ],
   "id": "4c24822fd432c0c6",
   "outputs": [],
   "execution_count": 6
  },
  {
   "metadata": {
    "ExecuteTime": {
     "end_time": "2025-04-06T06:44:19.097144Z",
     "start_time": "2025-04-06T06:39:32.728986Z"
    }
   },
   "cell_type": "code",
   "source": "swin_b_acc1, swin_b_acc5 = validate('swin_base_patch4_window7_224')",
   "id": "4f2be613f7fd74ca",
   "outputs": [
    {
     "name": "stderr",
     "output_type": "stream",
     "text": [
      "C:\\Users\\Weiye\\AppData\\Local\\Temp\\ipykernel_22212\\3494981932.py:22: FutureWarning: `torch.cuda.amp.autocast(args...)` is deprecated. Please use `torch.amp.autocast('cuda', args...)` instead.\n",
      "  with torch.cuda.amp.autocast(enabled=AMP_ENABLE):\n"
     ]
    },
    {
     "name": "stdout",
     "output_type": "stream",
     "text": [
      "Evaluated [0/391]\tTop 1 Accuracy: 98.438 (98.438)\tTop 5 Accuracy: 98.438 (98.438)\tMemory Used: 2441 MB\n",
      "Evaluated [39/391]\tTop 1 Accuracy: 88.281 (88.457)\tTop 5 Accuracy: 99.219 (98.496)\tMemory Used: 2441 MB\n",
      "Evaluated [78/391]\tTop 1 Accuracy: 84.375 (88.370)\tTop 5 Accuracy: 99.219 (98.161)\tMemory Used: 2441 MB\n",
      "Evaluated [117/391]\tTop 1 Accuracy: 95.312 (87.606)\tTop 5 Accuracy: 100.000 (98.073)\tMemory Used: 2441 MB\n",
      "Evaluated [156/391]\tTop 1 Accuracy: 77.344 (87.694)\tTop 5 Accuracy: 96.875 (98.184)\tMemory Used: 2441 MB\n",
      "Evaluated [195/391]\tTop 1 Accuracy: 79.688 (86.539)\tTop 5 Accuracy: 94.531 (97.824)\tMemory Used: 2441 MB\n",
      "Evaluated [234/391]\tTop 1 Accuracy: 78.125 (86.240)\tTop 5 Accuracy: 92.188 (97.716)\tMemory Used: 2441 MB\n",
      "Evaluated [273/391]\tTop 1 Accuracy: 92.969 (85.795)\tTop 5 Accuracy: 98.438 (97.602)\tMemory Used: 2441 MB\n",
      "Evaluated [312/391]\tTop 1 Accuracy: 82.812 (85.663)\tTop 5 Accuracy: 93.750 (97.526)\tMemory Used: 2441 MB\n",
      "Evaluated [351/391]\tTop 1 Accuracy: 72.656 (85.254)\tTop 5 Accuracy: 96.875 (97.468)\tMemory Used: 2441 MB\n",
      "Evaluated [390/391]\tTop 1 Accuracy: 65.000 (85.154)\tTop 5 Accuracy: 95.000 (97.492)\tMemory Used: 2441 MB\n",
      "*** Top 1 Accuracy 85.154, Top 5 Accuracy 97.492 ***\n"
     ]
    }
   ],
   "execution_count": 7
  },
  {
   "metadata": {
    "ExecuteTime": {
     "end_time": "2025-04-06T06:47:41.286730Z",
     "start_time": "2025-04-06T06:44:19.123637Z"
    }
   },
   "cell_type": "code",
   "source": "swin_s_acc1, swin_s_acc5 = validate('swin_small_patch4_window7_224')",
   "id": "d0ffe47667f178ea",
   "outputs": [
    {
     "name": "stderr",
     "output_type": "stream",
     "text": [
      "C:\\Users\\Weiye\\AppData\\Local\\Temp\\ipykernel_22212\\3494981932.py:22: FutureWarning: `torch.cuda.amp.autocast(args...)` is deprecated. Please use `torch.amp.autocast('cuda', args...)` instead.\n",
      "  with torch.cuda.amp.autocast(enabled=AMP_ENABLE):\n"
     ]
    },
    {
     "name": "stdout",
     "output_type": "stream",
     "text": [
      "Evaluated [0/391]\tTop 1 Accuracy: 96.094 (96.094)\tTop 5 Accuracy: 97.656 (97.656)\tMemory Used: 2441 MB\n",
      "Evaluated [39/391]\tTop 1 Accuracy: 87.500 (87.793)\tTop 5 Accuracy: 100.000 (98.086)\tMemory Used: 2441 MB\n",
      "Evaluated [78/391]\tTop 1 Accuracy: 78.125 (86.748)\tTop 5 Accuracy: 98.438 (97.765)\tMemory Used: 2441 MB\n",
      "Evaluated [117/391]\tTop 1 Accuracy: 94.531 (85.765)\tTop 5 Accuracy: 100.000 (97.623)\tMemory Used: 2441 MB\n",
      "Evaluated [156/391]\tTop 1 Accuracy: 75.000 (86.062)\tTop 5 Accuracy: 96.875 (97.741)\tMemory Used: 2441 MB\n",
      "Evaluated [195/391]\tTop 1 Accuracy: 75.000 (84.774)\tTop 5 Accuracy: 89.844 (97.373)\tMemory Used: 2441 MB\n",
      "Evaluated [234/391]\tTop 1 Accuracy: 78.906 (84.468)\tTop 5 Accuracy: 90.625 (97.234)\tMemory Used: 2441 MB\n",
      "Evaluated [273/391]\tTop 1 Accuracy: 87.500 (83.873)\tTop 5 Accuracy: 97.656 (97.129)\tMemory Used: 2441 MB\n",
      "Evaluated [312/391]\tTop 1 Accuracy: 77.344 (83.766)\tTop 5 Accuracy: 92.188 (97.005)\tMemory Used: 2441 MB\n",
      "Evaluated [351/391]\tTop 1 Accuracy: 64.062 (83.290)\tTop 5 Accuracy: 93.750 (96.911)\tMemory Used: 2441 MB\n",
      "Evaluated [390/391]\tTop 1 Accuracy: 65.000 (83.266)\tTop 5 Accuracy: 93.750 (96.948)\tMemory Used: 2441 MB\n",
      "*** Top 1 Accuracy 83.266, Top 5 Accuracy 96.948 ***\n"
     ]
    }
   ],
   "execution_count": 8
  },
  {
   "metadata": {
    "ExecuteTime": {
     "end_time": "2025-04-06T06:50:07.795142Z",
     "start_time": "2025-04-06T06:47:41.287738Z"
    }
   },
   "cell_type": "code",
   "source": "swin_t_acc1, swin_t_acc5 = validate('swin_tiny_patch4_window7_224')",
   "id": "a5d15f7ce6ee1302",
   "outputs": [
    {
     "name": "stderr",
     "output_type": "stream",
     "text": [
      "C:\\Users\\Weiye\\AppData\\Local\\Temp\\ipykernel_22212\\3494981932.py:22: FutureWarning: `torch.cuda.amp.autocast(args...)` is deprecated. Please use `torch.amp.autocast('cuda', args...)` instead.\n",
      "  with torch.cuda.amp.autocast(enabled=AMP_ENABLE):\n"
     ]
    },
    {
     "name": "stdout",
     "output_type": "stream",
     "text": [
      "Evaluated [0/391]\tTop 1 Accuracy: 92.969 (92.969)\tTop 5 Accuracy: 98.438 (98.438)\tMemory Used: 2441 MB\n",
      "Evaluated [39/391]\tTop 1 Accuracy: 89.062 (86.680)\tTop 5 Accuracy: 99.219 (97.539)\tMemory Used: 2441 MB\n",
      "Evaluated [78/391]\tTop 1 Accuracy: 75.000 (86.155)\tTop 5 Accuracy: 97.656 (97.280)\tMemory Used: 2441 MB\n",
      "Evaluated [117/391]\tTop 1 Accuracy: 94.531 (85.818)\tTop 5 Accuracy: 99.219 (97.338)\tMemory Used: 2441 MB\n",
      "Evaluated [156/391]\tTop 1 Accuracy: 72.656 (85.783)\tTop 5 Accuracy: 93.750 (97.358)\tMemory Used: 2441 MB\n",
      "Evaluated [195/391]\tTop 1 Accuracy: 64.844 (83.917)\tTop 5 Accuracy: 87.500 (96.596)\tMemory Used: 2441 MB\n",
      "Evaluated [234/391]\tTop 1 Accuracy: 63.281 (83.235)\tTop 5 Accuracy: 85.938 (96.280)\tMemory Used: 2441 MB\n",
      "Evaluated [273/391]\tTop 1 Accuracy: 85.156 (82.376)\tTop 5 Accuracy: 96.094 (95.980)\tMemory Used: 2441 MB\n",
      "Evaluated [312/391]\tTop 1 Accuracy: 81.250 (81.916)\tTop 5 Accuracy: 89.062 (95.699)\tMemory Used: 2441 MB\n",
      "Evaluated [351/391]\tTop 1 Accuracy: 65.625 (81.292)\tTop 5 Accuracy: 89.844 (95.481)\tMemory Used: 2441 MB\n",
      "Evaluated [390/391]\tTop 1 Accuracy: 52.500 (81.182)\tTop 5 Accuracy: 91.250 (95.520)\tMemory Used: 2441 MB\n",
      "*** Top 1 Accuracy 81.182, Top 5 Accuracy 95.520 ***\n"
     ]
    }
   ],
   "execution_count": 9
  },
  {
   "metadata": {
    "ExecuteTime": {
     "end_time": "2025-04-06T06:57:34.047170Z",
     "start_time": "2025-04-06T06:50:07.797651Z"
    }
   },
   "cell_type": "code",
   "source": "swin_l_acc1, swin_l_acc5 = validate('swin_large_patch4_window7_224')",
   "id": "a92b25cad4864e13",
   "outputs": [
    {
     "name": "stderr",
     "output_type": "stream",
     "text": [
      "C:\\Users\\Weiye\\AppData\\Local\\Temp\\ipykernel_22212\\3494981932.py:22: FutureWarning: `torch.cuda.amp.autocast(args...)` is deprecated. Please use `torch.amp.autocast('cuda', args...)` instead.\n",
      "  with torch.cuda.amp.autocast(enabled=AMP_ENABLE):\n"
     ]
    },
    {
     "name": "stdout",
     "output_type": "stream",
     "text": [
      "Evaluated [0/1563]\tTop 1 Accuracy: 96.875 (96.875)\tTop 5 Accuracy: 96.875 (96.875)\tMemory Used: 2441 MB\n",
      "Evaluated [156/1563]\tTop 1 Accuracy: 96.875 (89.172)\tTop 5 Accuracy: 100.000 (98.786)\tMemory Used: 2441 MB\n",
      "Evaluated [312/1563]\tTop 1 Accuracy: 90.625 (89.237)\tTop 5 Accuracy: 100.000 (98.472)\tMemory Used: 2441 MB\n",
      "Evaluated [468/1563]\tTop 1 Accuracy: 96.875 (88.373)\tTop 5 Accuracy: 100.000 (98.274)\tMemory Used: 2441 MB\n",
      "Evaluated [624/1563]\tTop 1 Accuracy: 100.000 (88.565)\tTop 5 Accuracy: 100.000 (98.370)\tMemory Used: 2441 MB\n",
      "Evaluated [780/1563]\tTop 1 Accuracy: 81.250 (87.624)\tTop 5 Accuracy: 93.750 (98.155)\tMemory Used: 2441 MB\n",
      "Evaluated [936/1563]\tTop 1 Accuracy: 87.500 (87.250)\tTop 5 Accuracy: 93.750 (98.006)\tMemory Used: 2441 MB\n",
      "Evaluated [1092/1563]\tTop 1 Accuracy: 100.000 (86.739)\tTop 5 Accuracy: 100.000 (97.919)\tMemory Used: 2441 MB\n",
      "Evaluated [1248/1563]\tTop 1 Accuracy: 75.000 (86.684)\tTop 5 Accuracy: 96.875 (97.888)\tMemory Used: 2441 MB\n",
      "Evaluated [1404/1563]\tTop 1 Accuracy: 62.500 (86.357)\tTop 5 Accuracy: 93.750 (97.863)\tMemory Used: 2441 MB\n",
      "Evaluated [1560/1563]\tTop 1 Accuracy: 68.750 (86.261)\tTop 5 Accuracy: 100.000 (97.882)\tMemory Used: 2441 MB\n",
      "*** Top 1 Accuracy 86.248, Top 5 Accuracy 97.880 ***\n"
     ]
    }
   ],
   "execution_count": 10
  },
  {
   "metadata": {},
   "cell_type": "markdown",
   "source": "",
   "id": "614b82843097e51a"
  },
  {
   "metadata": {},
   "cell_type": "markdown",
   "source": [
    "| Model  | Input Size | Params | Our Top-1 Acc (%) | Paper Top-1 Acc (%) | Top-1 Acc Δ (%) | Our Top-5 Acc (%) | Paper Top-5 Acc (%) | Top-5 Acc Δ (%) |\n",
    "|--------|------------|--------|-------------------|---------------------|-----------------|-------------------|---------------------|-----------------|\n",
    "| Swin-T | 224²       | 29M    | 81.2              | 81.2                | +0.0            | 95.5              | 95.5                | +0.0            |\n",
    "| Swin-S | 224²       | 50M    | 83.3              | 83.2                | +0.1            | 96.9              | 96.2                | +0.7            |\n",
    "| Swin-B | 224²       | 88M    | 85.2              | 85.5                | -0.3            | 97.5              | 96.5                | +1.0            |\n",
    "| Swin-L | 224²       | 197M   | 86.2              | 86.3                | -0.1            | 97.9              | 97.9                | +0.0            |"
   ],
   "id": "a3f6ffe7fa4dbf2e"
  }
 ],
 "metadata": {
  "kernelspec": {
   "display_name": "Python 3",
   "language": "python",
   "name": "python3"
  },
  "language_info": {
   "codemirror_mode": {
    "name": "ipython",
    "version": 2
   },
   "file_extension": ".py",
   "mimetype": "text/x-python",
   "name": "python",
   "nbconvert_exporter": "python",
   "pygments_lexer": "ipython2",
   "version": "2.7.6"
  }
 },
 "nbformat": 4,
 "nbformat_minor": 5
}
